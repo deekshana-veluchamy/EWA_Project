{
 "cells": [
  {
   "cell_type": "code",
   "execution_count": 4,
   "metadata": {},
   "outputs": [
    {
     "name": "stdout",
     "output_type": "stream",
     "text": [
      "Requirement already satisfied: pymysql in c:\\users\\deekshana veluchamy\\anaconda3\\lib\\site-packages (0.10.1)\n"
     ]
    }
   ],
   "source": [
    "!pip install pymysql"
   ]
  },
  {
   "cell_type": "code",
   "execution_count": 10,
   "metadata": {},
   "outputs": [
    {
     "name": "stdout",
     "output_type": "stream",
     "text": [
      "Collecting pip\n",
      "  Downloading https://files.pythonhosted.org/packages/cb/28/91f26bd088ce8e22169032100d4260614fc3da435025ff389ef1d396a433/pip-20.2.4-py2.py3-none-any.whl (1.5MB)\n",
      "Installing collected packages: pip\n",
      "  Found existing installation: pip 19.0.3\n",
      "    Uninstalling pip-19.0.3:\n",
      "      Successfully uninstalled pip-19.0.3\n"
     ]
    },
    {
     "name": "stderr",
     "output_type": "stream",
     "text": [
      "Could not install packages due to an EnvironmentError: [WinError 5] Access is denied: 'C:\\\\Users\\\\Public\\\\Documents\\\\Wondershare\\\\CreatorTemp\\\\pip-uninstall-ydmpbt75\\\\pip.exe'\n",
      "Consider using the `--user` option or check the permissions.\n",
      "\n"
     ]
    }
   ],
   "source": [
    "!pip install --upgrade pip"
   ]
  },
  {
   "cell_type": "code",
   "execution_count": 2,
   "metadata": {},
   "outputs": [],
   "source": [
    "import contextlib\n",
    "import csv\n",
    "import datetime\n",
    "import os\n",
    "import pymysql\n",
    "\n",
    "\n",
    "REGISTRATION_SQL_QUERY = \"\"\"\n",
    "SELECT * FROM customerregistration;\n",
    "\"\"\"\n",
    "CUSTOMERORDERS_SQL_QUERY = \"\"\"\n",
    "SELECT * FROM CustomerOrder;\n",
    "\"\"\"\n",
    "PRODUCTS_SQL_QUERY = \"\"\"\n",
    "SELECT * FROM productdetails;\n",
    "\"\"\"\n",
    "\n",
    "CUSTOMER_SQL_QUERY = \"\"\"\n",
    "SELECT * FROM customers;\n",
    "\"\"\"\n",
    "\n",
    "RETAILER_SQL_QUERY = \"\"\"\n",
    "SELECT * FROM pickupaddress;\n",
    "\"\"\"\n",
    "\n",
    "TRANSACTIONS_SQL_QUERY = \"\"\"\n",
    "SELECT * FROM transactions;\n",
    "\"\"\"\n",
    "\n",
    "connection = pymysql.connect(host='localhost',\n",
    "                             user='root',\n",
    "                             password='Ilovemyself',\n",
    "                             db='groceryhub')\n",
    "\n",
    "with contextlib.closing(connection):\n",
    "    with connection.cursor() as cursor:\n",
    "        cursor.execute(REGISTRATION_SQL_QUERY)        \n",
    "        registration_results = cursor.fetchall()\n",
    "        registration_headers = [i[0] for i in cursor.description]\n",
    "\n",
    "        cursor.execute(CUSTOMERORDERS_SQL_QUERY)\n",
    "        customerorder_results = cursor.fetchall()\n",
    "        customerorder_headers = [i[0] for i in cursor.description]\n",
    "\n",
    "        cursor.execute(PRODUCTS_SQL_QUERY)\n",
    "        products_results = cursor.fetchall()\n",
    "        products_headers = [i[0] for i in cursor.description]\n",
    "        \n",
    "        cursor.execute(CUSTOMER_SQL_QUERY)\n",
    "        customer_result = cursor.fetchall()\n",
    "        customer_headers = [i[0] for i in cursor.description]\n",
    "        \n",
    "        cursor.execute(RETAILER_SQL_QUERY)\n",
    "        retailer_result = cursor.fetchall()\n",
    "        retailer_headers = [i[0] for i in cursor.description]\n",
    "        \n",
    "        cursor.execute(TRANSACTIONS_SQL_QUERY)\n",
    "        transactions_result = cursor.fetchall()\n",
    "        transactions_headers = [i[0] for i in cursor.description]\n",
    "        \n",
    "\n",
    "registartion_output_file = 'registration-{}.csv'.format(datetime.datetime.today().strftime('%Y-%m-%d'))\n",
    "with open(registartion_output_file, 'w', newline='') as csvfile:\n",
    "    csv_writer = csv.writer(csvfile, lineterminator='\\n')\n",
    "    csv_writer.writerow(registration_headers)\n",
    "    csv_writer.writerows(registration_results)\n",
    "    \n",
    "\n",
    "customerorders_output_file = 'customerorders-{}.csv'.format(datetime.datetime.today().strftime('%Y-%m-%d'))\n",
    "with open(customerorders_output_file, 'w', encoding=\"utf-8\", newline='') as csvfile:\n",
    "    \n",
    "    csv_writer = csv.writer(csvfile , lineterminator='\\n')\n",
    "    csv_writer.writerow(customerorder_headers)\n",
    "    csv_writer.writerows(customerorder_results)\n",
    "    \n",
    "\n",
    "\n",
    "products_output_file = 'products-{}.csv'.format(datetime.datetime.today().strftime('%Y-%m-%d'))\n",
    "with open(products_output_file, 'w', encoding=\"utf-8\", newline='') as csvfile:\n",
    "    \n",
    "    csv_writer = csv.writer(csvfile, lineterminator='\\n')\n",
    "    csv_writer.writerow(products_headers)\n",
    "    csv_writer.writerows(products_results)\n",
    "\n",
    "    \n",
    "    \n",
    "customer_output_file = 'customers-{}.csv'.format(datetime.datetime.today().strftime('%Y-%m-%d'))\n",
    "with open(customer_output_file, 'w', encoding=\"utf-8\", newline='') as csvfile:\n",
    "    \n",
    "    csv_writer = csv.writer(csvfile, lineterminator='\\n')\n",
    "    csv_writer.writerow(customer_headers)\n",
    "    csv_writer.writerows(customer_result)\n",
    "    \n",
    "\n",
    "retailer_output_file = 'retailers-{}.csv'.format(datetime.datetime.today().strftime('%Y-%m-%d'))\n",
    "with open(retailer_output_file, 'w', encoding=\"utf-8\", newline='') as csvfile:\n",
    "    \n",
    "    csv_writer = csv.writer(csvfile, lineterminator='\\n')\n",
    "    csv_writer.writerow(retailer_headers)\n",
    "    csv_writer.writerows(retailer_result)\n",
    "\n",
    "\n",
    "transaction_output_file = 'transactions-{}.csv'.format(datetime.datetime.today().strftime('%Y-%m-%d'))\n",
    "with open(transaction_output_file, 'w', encoding=\"utf-8\", newline='') as csvfile:\n",
    "    \n",
    "    csv_writer = csv.writer(csvfile, lineterminator='\\n')\n",
    "    csv_writer.writerow(transactions_headers)\n",
    "    csv_writer.writerows(transactions_result)\n"
   ]
  },
  {
   "cell_type": "code",
   "execution_count": 14,
   "metadata": {},
   "outputs": [
    {
     "name": "stdout",
     "output_type": "stream",
     "text": [
      "Requirement already satisfied: pymongo in c:\\users\\deekshana veluchamy\\anaconda3\\lib\\site-packages (3.11.0)\n"
     ]
    }
   ],
   "source": [
    "!pip install pymongo"
   ]
  },
  {
   "cell_type": "code",
   "execution_count": 1,
   "metadata": {},
   "outputs": [],
   "source": [
    "import pymongo\n",
    "import csv\n",
    "client = pymongo.MongoClient(\"mongodb://localhost:27017/\")\n",
    "\n",
    "db = client[\"Reviews\"]\n",
    "\n",
    "col = db[\"myReviews\"]\n",
    "csv_columns = {  \"_id\", \"title\", \"userName\", \"productName\", \"productType\", \"productMaker\" , 'retailername', 'retailerstate', 'userage', 'productonsale', 'useroccupation', 'manufacturerrebate', 'usergender'\n",
    ",\"reviewRating\" , \"reviewDate\" , \"reviewText\" , \"retailerpin\" , \"retailercity\" , \"price\"}\n",
    "document = col.find()\n",
    "\n",
    "\n",
    "csv_file = \"customer_reviews.csv\"\n",
    "try:\n",
    "    with open(csv_file, 'w') as csvfile:\n",
    "        writer = csv.DictWriter(csvfile, fieldnames=csv_columns)\n",
    "        writer.writeheader()\n",
    "        for data in document:\n",
    "            writer.writerow(data)\n",
    "except IOError:\n",
    "    print(\"I/O error\")\n"
   ]
  },
  {
   "cell_type": "code",
   "execution_count": null,
   "metadata": {},
   "outputs": [],
   "source": []
  }
 ],
 "metadata": {
  "kernelspec": {
   "display_name": "Python 3",
   "language": "python",
   "name": "python3"
  },
  "language_info": {
   "codemirror_mode": {
    "name": "ipython",
    "version": 3
   },
   "file_extension": ".py",
   "mimetype": "text/x-python",
   "name": "python",
   "nbconvert_exporter": "python",
   "pygments_lexer": "ipython3",
   "version": "3.6.5"
  }
 },
 "nbformat": 4,
 "nbformat_minor": 4
}
